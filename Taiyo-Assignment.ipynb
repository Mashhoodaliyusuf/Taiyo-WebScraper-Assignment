{
  "nbformat": 4,
  "nbformat_minor": 0,
  "metadata": {
    "colab": {
      "provenance": [],
      "authorship_tag": "ABX9TyMqB1jzW+m1vzvrl+rFf5Lv",
      "include_colab_link": true
    },
    "kernelspec": {
      "name": "python3",
      "display_name": "Python 3"
    },
    "language_info": {
      "name": "python"
    }
  },
  "cells": [
    {
      "cell_type": "markdown",
      "metadata": {
        "id": "view-in-github",
        "colab_type": "text"
      },
      "source": [
        "<a href=\"https://colab.research.google.com/github/Mashhoodaliyusuf/Taiyo-WebScraper-Assignment/blob/main/Taiyo-Assignment.ipynb\" target=\"_parent\"><img src=\"https://colab.research.google.com/assets/colab-badge.svg\" alt=\"Open In Colab\"/></a>"
      ]
    },
    {
      "cell_type": "code",
      "execution_count": 1,
      "metadata": {
        "id": "hMnzLxFXCSxE"
      },
      "outputs": [],
      "source": [
        "import csv\n",
        "import requests\n",
        "from bs4 import BeautifulSoup\n",
        "\n",
        "class OpenTenderScraper:\n",
        "    def __init__(self):\n",
        "        self.url = \"https://opentender.eu/start\"\n",
        "        self.page = requests.get(self.url)\n",
        "        self.soup = BeautifulSoup(self.page.content, 'html.parser')\n",
        "\n",
        "    def extract_data(self):\n",
        "        data = []\n",
        "        # Find all the table rows in the page\n",
        "        rows = self.soup.find_all('tr')\n",
        "        # Iterate through each row\n",
        "        for row in rows:\n",
        "            # Find all the cells in the row\n",
        "            cells = row.find_all('td')\n",
        "            # If there are cells in the row, extract the data and append it to the data list\n",
        "            if cells:\n",
        "                data.append([cell.text for cell in cells])\n",
        "        return data\n",
        "\n",
        "    def write_to_csv(self, data, filename):\n",
        "        with open(filename, 'w', newline='') as csvfile:\n",
        "            writer = csv.writer(csvfile)\n",
        "            writer.writerows(data)\n",
        "\n",
        "\n"
      ]
    },
    {
      "cell_type": "code",
      "source": [
        "scraper = OpenTenderScraper()\n",
        "data = scraper.extract_data()\n",
        "scraper.write_to_csv(data, \"opentender_data.csv\")"
      ],
      "metadata": {
        "id": "WDitTn4pCXbG"
      },
      "execution_count": 2,
      "outputs": []
    }
  ]
}